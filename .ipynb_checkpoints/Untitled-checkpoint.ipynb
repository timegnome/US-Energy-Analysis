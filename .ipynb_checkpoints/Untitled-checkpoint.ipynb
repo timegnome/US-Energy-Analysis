{
 "cells": [
  {
   "cell_type": "code",
   "execution_count": 1,
   "metadata": {},
   "outputs": [],
   "source": [
    "import pandas as pd\n",
    "import json"
   ]
  },
  {
   "cell_type": "code",
   "execution_count": 4,
   "metadata": {},
   "outputs": [],
   "source": [
    "# totalEngJson = pd.read_json('TOTAL.json')\n",
    "# Can't read file as a json and must be parsed as a text\n",
    "# Columns to create must include:\n",
    "# series_id, name, units, f, start, end, last_updated, data\n",
    "# Data is a list object with list objects containing 2 values\n",
    "# Year/Date, unit amount\n",
    "# Two types of json objects: Annual and monthly\n",
    "# This is for the same recorded energy name"
   ]
  },
  {
   "cell_type": "code",
   "execution_count": null,
   "metadata": {},
   "outputs": [],
   "source": [
    "series_id, name, units, f, start, end, last_updated, date, "
   ]
  }
 ],
 "metadata": {
  "kernelspec": {
   "display_name": "Python 3",
   "language": "python",
   "name": "python3"
  },
  "language_info": {
   "codemirror_mode": {
    "name": "ipython",
    "version": 3
   },
   "file_extension": ".py",
   "mimetype": "text/x-python",
   "name": "python",
   "nbconvert_exporter": "python",
   "pygments_lexer": "ipython3",
   "version": "3.7.6"
  }
 },
 "nbformat": 4,
 "nbformat_minor": 4
}
